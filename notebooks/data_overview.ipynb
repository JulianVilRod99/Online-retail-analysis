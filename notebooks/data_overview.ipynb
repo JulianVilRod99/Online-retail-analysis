{
 "cells": [
  {
   "cell_type": "markdown",
   "id": "29ce2a5a",
   "metadata": {},
   "source": [
    "# **ONLINE RETAIL OVERVIEW**"
   ]
  },
  {
   "cell_type": "markdown",
   "id": "de5f07ab",
   "metadata": {},
   "source": [
    "## 1. Project Overview\n",
    "The notebook presents the data preparation of the Online Retail II dataset from the UCI Machine Learning Repository.\n",
    "The dataset contains transactional data from a UK-based online retailer. The goal of this notebook is to clean and prepare the raw data for further analysis."
   ]
  },
  {
   "cell_type": "markdown",
   "id": "f62ed6a1",
   "metadata": {},
   "source": [
    "## 2. Import libraries"
   ]
  },
  {
   "cell_type": "code",
   "execution_count": 1,
   "id": "644e86d5",
   "metadata": {},
   "outputs": [],
   "source": [
    "import pandas as pd\n",
    "import numpy as np"
   ]
  },
  {
   "cell_type": "markdown",
   "id": "ba4c1af4",
   "metadata": {},
   "source": [
    "## 3. Download dataset"
   ]
  },
  {
   "cell_type": "code",
   "execution_count": 2,
   "id": "7f5d4ad0",
   "metadata": {},
   "outputs": [
    {
     "name": "stdout",
     "output_type": "stream",
     "text": [
      "ZIP file already exists. Skipping download.\n",
      "Extraction complete.\n"
     ]
    }
   ],
   "source": [
    "!python ../scripts/download_data.py"
   ]
  },
  {
   "cell_type": "markdown",
   "id": "92cfd791",
   "metadata": {},
   "source": [
    "## 4. Load the data\n",
    "First, load the excel file and check the sheet names"
   ]
  },
  {
   "cell_type": "code",
   "execution_count": 3,
   "id": "409981e3",
   "metadata": {},
   "outputs": [
    {
     "data": {
      "text/plain": [
       "['Year 2009-2010', 'Year 2010-2011']"
      ]
     },
     "execution_count": 3,
     "metadata": {},
     "output_type": "execute_result"
    }
   ],
   "source": [
    "raw_data_path = \"../data/raw/online_retail_II.xlsx\"\n",
    "excel_file = pd.ExcelFile(raw_data_path)\n",
    "excel_file.sheet_names"
   ]
  },
  {
   "cell_type": "markdown",
   "id": "e5ccd973",
   "metadata": {},
   "source": [
    "Create the corresponding dataframes"
   ]
  },
  {
   "cell_type": "code",
   "execution_count": 4,
   "id": "ad119b76",
   "metadata": {},
   "outputs": [
    {
     "name": "stdout",
     "output_type": "stream",
     "text": [
      "(525461, 8)\n",
      "(541910, 8)\n"
     ]
    }
   ],
   "source": [
    "df_2009 = pd.read_excel(excel_file, sheet_name=\"Year 2009-2010\")\n",
    "print(df_2009.shape)\n",
    "df_2010 = pd.read_excel(excel_file, sheet_name=\"Year 2010-2011\")\n",
    "print(df_2010.shape)"
   ]
  },
  {
   "cell_type": "markdown",
   "id": "60b7729b",
   "metadata": {},
   "source": [
    "Check the number of rows and columns in each dataset (2009–2010 and 2010–2011). Since they share the same column structure, we can merge them into a single DataFrame for further analysis."
   ]
  },
  {
   "cell_type": "code",
   "execution_count": 5,
   "id": "58c1addf",
   "metadata": {},
   "outputs": [
    {
     "data": {
      "text/plain": [
       "(1067371, 8)"
      ]
     },
     "execution_count": 5,
     "metadata": {},
     "output_type": "execute_result"
    }
   ],
   "source": [
    "df_raw = pd.concat([df_2009,df_2010], ignore_index=True)\n",
    "df_raw.shape"
   ]
  },
  {
   "cell_type": "markdown",
   "id": "f322fa5d",
   "metadata": {},
   "source": [
    "After merging, all rows are combined and columns remain consistent across the dataset."
   ]
  },
  {
   "cell_type": "markdown",
   "id": "172d0135",
   "metadata": {},
   "source": [
    "## 6. Review the dataset\n",
    "Display information to understand the behavior of the dataset and find the columns with null values, duplicate values,\n",
    "potential cleaning needs."
   ]
  },
  {
   "cell_type": "markdown",
   "id": "8c0c0180",
   "metadata": {},
   "source": [
    "### 5.1 Check for duplicates"
   ]
  },
  {
   "cell_type": "code",
   "execution_count": 6,
   "id": "6e32cdaa",
   "metadata": {},
   "outputs": [
    {
     "name": "stdout",
     "output_type": "stream",
     "text": [
      "Number of duplicate rows: 34335\n"
     ]
    }
   ],
   "source": [
    "print(f\"Number of duplicate rows: {df_raw.duplicated().sum()}\")"
   ]
  },
  {
   "cell_type": "markdown",
   "id": "87234cb8",
   "metadata": {},
   "source": [
    "### 5.2 Null values by column"
   ]
  },
  {
   "cell_type": "code",
   "execution_count": 7,
   "id": "ce0f7f87",
   "metadata": {},
   "outputs": [
    {
     "name": "stdout",
     "output_type": "stream",
     "text": [
      "Customer ID    243007\n",
      "Description      4382\n",
      "StockCode           0\n",
      "Invoice             0\n",
      "Quantity            0\n",
      "InvoiceDate         0\n",
      "Price               0\n",
      "Country             0\n",
      "dtype: int64\n"
     ]
    }
   ],
   "source": [
    "print(df_raw.isnull().sum().sort_values(ascending=False))"
   ]
  },
  {
   "cell_type": "markdown",
   "id": "ccd8a2ad",
   "metadata": {},
   "source": [
    "### 5.3 Checking Data Types\n",
    "\n",
    "We inspect the data types to ensure each column is represented appropriately for analysis and transformation."
   ]
  },
  {
   "cell_type": "code",
   "execution_count": 12,
   "id": "b60ff210",
   "metadata": {},
   "outputs": [
    {
     "data": {
      "text/plain": [
       "Invoice                object\n",
       "StockCode              object\n",
       "Description            object\n",
       "Quantity                int64\n",
       "InvoiceDate    datetime64[ns]\n",
       "Price                 float64\n",
       "Customer ID            object\n",
       "Country                object\n",
       "dtype: object"
      ]
     },
     "execution_count": 12,
     "metadata": {},
     "output_type": "execute_result"
    }
   ],
   "source": [
    "df_raw.dtypes"
   ]
  },
  {
   "cell_type": "code",
   "execution_count": 9,
   "id": "1f99d0a0",
   "metadata": {},
   "outputs": [],
   "source": [
    "df_raw.to_csv(\"../data/raw/online_retail_combined.csv\", index=False)"
   ]
  },
  {
   "cell_type": "markdown",
   "id": "a7782a8b",
   "metadata": {},
   "source": [
    "### 5.4 Interpretation, early insights or data issues\n",
    "\n",
    "The key columns for the analysis are: Invoice, Description, Quantity, InvoiceDate, Price, and Country.\n",
    "These fields are crucial to evaluate productivity and revenue by country, as well as to analyze the quantity of products sold by month or year.\n",
    "Some initial observations from the dataset:\n",
    "\n",
    "* The full dataset contains 1,067,371 rows and 8 columns.\n",
    "* The Customer ID column has a significant number of missing values, approximately 25% of the total.\n",
    "* There are 34,335 duplicate rows in the data.\n",
    "* The Invoice column contains values that start with a letter (\"C\") to indicate canceled transactions. This column may need to be split or filtered for better analysis.\n",
    "\n",
    "These are key aspects to address during the data cleaning and transformation process."
   ]
  }
 ],
 "metadata": {
  "kernelspec": {
   "display_name": "Python 3",
   "language": "python",
   "name": "python3"
  },
  "language_info": {
   "codemirror_mode": {
    "name": "ipython",
    "version": 3
   },
   "file_extension": ".py",
   "mimetype": "text/x-python",
   "name": "python",
   "nbconvert_exporter": "python",
   "pygments_lexer": "ipython3",
   "version": "3.13.3"
  }
 },
 "nbformat": 4,
 "nbformat_minor": 5
}
